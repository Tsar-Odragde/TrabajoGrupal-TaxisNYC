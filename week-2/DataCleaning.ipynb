{
  "cells": [
    {
      "cell_type": "code",
      "execution_count": 172,
      "metadata": {
        "id": "d8hLffAL4hOp"
      },
      "outputs": [],
      "source": [
        "import pandas as pd\n",
        "import numpy as np\n",
        "import datetime as dt"
      ]
    },
    {
      "cell_type": "markdown",
      "metadata": {
        "id": "Cr7zFqCrf_y1"
      },
      "source": [
        "Load Data"
      ]
    },
    {
      "cell_type": "code",
      "execution_count": 173,
      "metadata": {
        "id": "1OALHovSgCQX"
      },
      "outputs": [],
      "source": [
        "df = pd.read_parquet('data/yellow_tripdata_2018-01.parquet')"
      ]
    },
    {
      "cell_type": "code",
      "execution_count": 174,
      "metadata": {
        "id": "-bB30hIpgQb0"
      },
      "outputs": [],
      "source": [
        "df1 = df.copy()  #Hacemos una copia para trabajar con los datos y para evitar que en un error afecte los datos originales"
      ]
    },
    {
      "cell_type": "markdown",
      "metadata": {
        "id": "FEBgX4_1gYoL"
      },
      "source": [
        "- VendorId sólo acepta 1 o 2, si se da algo fuera de esto se imputa por la moda."
      ]
    },
    {
      "cell_type": "code",
      "execution_count": 175,
      "metadata": {
        "id": "7WJszIbhgaea"
      },
      "outputs": [],
      "source": [
        "supported_values = [1,2]    #creamos una variable con los valores admitidos\n",
        "mode_vendor = int(df1['VendorID'].mode())   # la moda de la columna\n",
        "#implementamos un bucle for para ir comprobando que cada valor esté dentro de los valores, caso contrario -\n",
        "# se imputa por la moda\n",
        "for i in df1['VendorID']:\n",
        "    if i not in supported_values:\n",
        "       df1['VendorID'].replace(to_replace= i,value= mode_vendor ,inplace=True) "
      ]
    },
    {
      "cell_type": "markdown",
      "metadata": {
        "id": "r1PofQoIgdYU"
      },
      "source": [
        "- tpep_pickup_datetime acepta registros entre 01-01-2018 y 31-01-2018 (23:59:59 hs), fuera de esto/NaT se imputa por el último valor dentro del rango. *Decisión final: Fuera del rango se desestima\n"
      ]
    },
    {
      "cell_type": "code",
      "execution_count": 176,
      "metadata": {
        "id": "tA6uTZS3ggam"
      },
      "outputs": [],
      "source": [
        "min_date = dt.datetime(2018,1,1) #establecemos la fecha minima\n",
        "max_date = dt.datetime(2018,2,1) # establecemos la fecha maxima\n",
        "df1.query(\"tpep_pickup_datetime <= @max_date\", inplace= True) #filtramos\n",
        "df1.query(\"tpep_pickup_datetime >= @min_date\", inplace= True)"
      ]
    },
    {
      "cell_type": "markdown",
      "metadata": {
        "id": "VIicLAYYgnka"
      },
      "source": [
        "- tpep_dropoff_datetime Acepta valores entre 01-01-2018 y 01-02-2018 (hasta el mediodía 12pm). Si se pasa del rango, imputar con el último valor dentro del rango.\n"
      ]
    },
    {
      "cell_type": "code",
      "execution_count": 177,
      "metadata": {
        "id": "Hra9I1ERgqIP"
      },
      "outputs": [],
      "source": [
        "min_date1 = dt.datetime(2018,1,1) #establecemos la fecha minima\n",
        "max_date1 = dt.datetime(2018,2,1,12) # establecemos la fecha maxima (hasta el mediodia)"
      ]
    },
    {
      "cell_type": "markdown",
      "metadata": {
        "id": "QmQNmcdLgxdh"
      },
      "source": [
        "- tpep_dropoff_datetime se desestima, se reemplaza por el campo 'Duración del viaje'."
      ]
    },
    {
      "cell_type": "code",
      "execution_count": 178,
      "metadata": {
        "id": "t2FKChRXgyPb"
      },
      "outputs": [],
      "source": [
        "#Primero creamos la columna 'Travel_time'\n",
        "df1['Travel_time'] = ((df1['tpep_dropoff_datetime'] - df1['tpep_pickup_datetime']).dt.seconds)/60"
      ]
    },
    {
      "cell_type": "code",
      "execution_count": 179,
      "metadata": {
        "id": "9yqWZ01Rg3hA"
      },
      "outputs": [],
      "source": [
        "#Ahora procedemos a eliminar la columna 'tpep_dropoff_datetime'\n",
        "df1 = df1.drop(['tpep_dropoff_datetime'],axis=1)"
      ]
    },
    {
      "cell_type": "markdown",
      "metadata": {
        "id": "yIv-Hj88g4T2"
      },
      "source": [
        "- Passanger_count acepta registros entre 1-4, fuera de esto se imputa por moda. *Decisión final: Imputar 0 por 1.\n"
      ]
    },
    {
      "cell_type": "code",
      "execution_count": 180,
      "metadata": {
        "id": "gI9k06QokCSp"
      },
      "outputs": [],
      "source": [
        "supported_values = [1,2,3,4]    #creamos una variable con los valores admitidos\n",
        "mode_passenger = int(df1['passenger_count'].mode())   # la moda de la columna\n",
        "#implementamos un bucle for para ir comprobando que cada valor esté dentro de los valores, caso contrario -\n",
        "# se imputa por la moda (1).\n",
        "for i in df1['passenger_count']:\n",
        "    if i not in supported_values:\n",
        "       df1['passenger_count'].replace(to_replace= i,value= mode_passenger ,inplace=True) "
      ]
    },
    {
      "cell_type": "markdown",
      "metadata": {
        "id": "3Gk6iAu4i6PQ"
      },
      "source": [
        "- Trip_distance 3 sigmas para detectar outliers, se desestiman los outliers superiores. Los viajes con trip_distance = 0 se tratan de imputar usando el fare_amount + rate_code, si siguen sin poder ser imputados se desestiman.\n"
      ]
    },
    {
      "cell_type": "code",
      "execution_count": 181,
      "metadata": {
        "id": "_BJgpKJZqsla"
      },
      "outputs": [],
      "source": [
        "below =  df1['trip_distance'].mean() - 3 * df1['trip_distance'].std()\n",
        "above = df1['trip_distance'].mean() + 3 * df1['trip_distance'].std()\n",
        "# filtramos los outliers superiores\n",
        "df1.query(\"trip_distance < @above\", inplace=True)"
      ]
    },
    {
      "cell_type": "markdown",
      "metadata": {
        "id": "l5sP0kvwi9ze"
      },
      "source": [
        "- PU_Location y DO_location aceptan valores dentro del rango (1, 265), fuera de este rango se imputa por 265 (Unknown). \n"
      ]
    },
    {
      "cell_type": "code",
      "execution_count": 182,
      "metadata": {},
      "outputs": [],
      "source": [
        "def imputeValue( p_x ):\n",
        "    if (p_x>=1) and (p_x<=265):\n",
        "        return p_x\n",
        "    return 265"
      ]
    },
    {
      "cell_type": "code",
      "execution_count": 184,
      "metadata": {},
      "outputs": [],
      "source": [
        "df1['PULocationID'] = df1['PULocationID'].apply(imputeValue)\n",
        "df1['DOLocationID'] = df1['DOLocationID'].apply(imputeValue)"
      ]
    },
    {
      "cell_type": "markdown",
      "metadata": {
        "id": "LiFd4pc_jBY2"
      },
      "source": [
        "- Rate_CodeID acepta valores dentro del rango (1-6), fuera de este rango se imputa por moda.\n"
      ]
    },
    {
      "cell_type": "code",
      "execution_count": 185,
      "metadata": {
        "id": "fwuJRMH7gzat"
      },
      "outputs": [],
      "source": [
        "mode = df1['RatecodeID'].mode()[0]"
      ]
    },
    {
      "cell_type": "code",
      "execution_count": 186,
      "metadata": {},
      "outputs": [],
      "source": [
        "def imputeMode( p_x ):\n",
        "    if p_x not in [1,2,3,4,5,6]:\n",
        "        return mode\n",
        "    return p_x"
      ]
    },
    {
      "cell_type": "code",
      "execution_count": 187,
      "metadata": {},
      "outputs": [],
      "source": [
        "df1['RatecodeID'] = df1['RatecodeID'].apply(imputeMode)"
      ]
    },
    {
      "cell_type": "markdown",
      "metadata": {
        "id": "s-WSAeUMjDNA"
      },
      "source": [
        "- Store_n_fwd actualmente no está en el ERD, drop a la columna a menos de que se nos ocurra algún uso.*Decisión final: Drop"
      ]
    },
    {
      "cell_type": "code",
      "execution_count": 188,
      "metadata": {
        "id": "h1cOA5Rhgz7i"
      },
      "outputs": [],
      "source": [
        "df1 = df1.drop(columns=['store_and_fwd_flag'])"
      ]
    },
    {
      "cell_type": "markdown",
      "metadata": {
        "id": "W83Vs9cyjH0C"
      },
      "source": [
        "- Payment_type acepta valores (1-6), fuera de este rango se imputa por 5 (Unknown)."
      ]
    },
    {
      "cell_type": "code",
      "execution_count": 189,
      "metadata": {
        "id": "9f-xwZ_sg1UD"
      },
      "outputs": [],
      "source": [
        "def imputeType( p_x ):\n",
        "    if p_x not in [1,2,3,4,5,6]:\n",
        "        return 5\n",
        "    return p_x"
      ]
    },
    {
      "cell_type": "code",
      "execution_count": 190,
      "metadata": {},
      "outputs": [],
      "source": [
        "df1['payment_type'] = df1['payment_type'].apply(imputeType)"
      ]
    },
    {
      "cell_type": "markdown",
      "metadata": {
        "id": "AbdK_oa-jMNm"
      },
      "source": [
        "- Fare_Amount se trata de imputar los valores negativos usando trip_distance + rate_code, de lo contrario se desestiman (muchos de estos valores son payment_type 3-4, considerar marcarlos como outliers + desestimar).\n"
      ]
    },
    {
      "cell_type": "code",
      "execution_count": null,
      "metadata": {},
      "outputs": [],
      "source": [
        "#Se agrega a la tabla de outliers, no se puede inferir los demás datos"
      ]
    },
    {
      "cell_type": "markdown",
      "metadata": {
        "id": "r7XwmPQfjJNJ"
      },
      "source": [
        "- Extra acepta valores en (0.0, 0.5, 1.0) valores fuera del rango se imputan por moda.\n"
      ]
    },
    {
      "cell_type": "code",
      "execution_count": 192,
      "metadata": {
        "id": "Y8hcXNJ2g3Km"
      },
      "outputs": [],
      "source": [
        "mode_extra = df1['extra'].mode()[0]"
      ]
    },
    {
      "cell_type": "code",
      "execution_count": 193,
      "metadata": {},
      "outputs": [],
      "source": [
        "def imputeExtra( p_x ):\n",
        "    if p_x not in [0, 0.5, 1]:\n",
        "        return mode_extra\n",
        "    return p_x"
      ]
    },
    {
      "cell_type": "code",
      "execution_count": 194,
      "metadata": {},
      "outputs": [],
      "source": [
        "df1['extra'] = df1['extra'].apply(imputeExtra)"
      ]
    },
    {
      "cell_type": "markdown",
      "metadata": {
        "id": "uXieMbKzjPhw"
      },
      "source": [
        "- MTA_tax Sólo acepta valores de 0 y 0.5.*Decisión final: si el viaje no es outlier imputar"
      ]
    },
    {
      "cell_type": "code",
      "execution_count": 195,
      "metadata": {},
      "outputs": [],
      "source": [
        "def imputeMTA( p_x ):\n",
        "    if p_x != 0.5:\n",
        "        return 0.5\n",
        "    return p_x"
      ]
    },
    {
      "cell_type": "code",
      "execution_count": 196,
      "metadata": {},
      "outputs": [],
      "source": [
        "df1['mta_tax'] = df1.loc[(~df1['payment_type'].isin([3,4])), 'mta_tax'].apply(imputeMTA)"
      ]
    },
    {
      "cell_type": "markdown",
      "metadata": {
        "id": "PDTGH1aGjSk5"
      },
      "source": [
        "- Improvement_surcharge Sólo acepta valores de (0.3), si el viaje no es outlier imputar. *Decisión final: imputar en todos los casos a 0.3\n"
      ]
    },
    {
      "cell_type": "code",
      "execution_count": 197,
      "metadata": {},
      "outputs": [],
      "source": [
        "def imputeIS( p_x ):\n",
        "    if p_x != 0.3:\n",
        "        return 0.3\n",
        "    return p_x"
      ]
    },
    {
      "cell_type": "code",
      "execution_count": 198,
      "metadata": {},
      "outputs": [],
      "source": [
        "df1['improvement_surcharge'] = df1.loc[(~df1['payment_type'].isin([3,4])), 'improvement_surcharge'].apply(imputeIS)"
      ]
    },
    {
      "cell_type": "markdown",
      "metadata": {
        "id": "hsTv_DxejVti"
      },
      "source": [
        "- Tip_amount acepta cualquier valor, considerar dropear o no . * Decisión final: Dropear\n"
      ]
    },
    {
      "cell_type": "code",
      "execution_count": 199,
      "metadata": {
        "id": "UO9p8QWRjyME"
      },
      "outputs": [],
      "source": [
        "df1 = df1.drop(['tip_amount'],axis=1)"
      ]
    },
    {
      "cell_type": "markdown",
      "metadata": {},
      "source": [
        "#### Agregamos a un DataFrame de outliers los datos que no pueden ser tratados."
      ]
    },
    {
      "cell_type": "code",
      "execution_count": 224,
      "metadata": {},
      "outputs": [],
      "source": [
        "df1['Outlier'] = 0"
      ]
    },
    {
      "cell_type": "code",
      "execution_count": 226,
      "metadata": {},
      "outputs": [],
      "source": [
        "df1.loc[ (df1['mta_tax'].isna())              , 'Outlier' ] = 1\n",
        "df1.loc[ (df1['trip_distance']==0)            , 'Outlier' ] = 1\n",
        "df1.loc[ (df1['fare_amount']<=0)              , 'Outlier' ] = 1\n",
        "df1.loc[ (df1['improvement_surcharge'].isna()), 'Outlier' ] = 1\n",
        "df1.loc[ ((df1['PULocationID']==265) & (df1['DOLocationID']==265)), 'Outlier' ] = 1"
      ]
    },
    {
      "cell_type": "code",
      "execution_count": 228,
      "metadata": {},
      "outputs": [],
      "source": [
        "df_outliers = df1.loc[ df1['Outlier']==1 ]"
      ]
    },
    {
      "cell_type": "code",
      "execution_count": 229,
      "metadata": {},
      "outputs": [
        {
          "data": {
            "text/html": [
              "<div>\n",
              "<style scoped>\n",
              "    .dataframe tbody tr th:only-of-type {\n",
              "        vertical-align: middle;\n",
              "    }\n",
              "\n",
              "    .dataframe tbody tr th {\n",
              "        vertical-align: top;\n",
              "    }\n",
              "\n",
              "    .dataframe thead th {\n",
              "        text-align: right;\n",
              "    }\n",
              "</style>\n",
              "<table border=\"1\" class=\"dataframe\">\n",
              "  <thead>\n",
              "    <tr style=\"text-align: right;\">\n",
              "      <th></th>\n",
              "      <th>VendorID</th>\n",
              "      <th>tpep_pickup_datetime</th>\n",
              "      <th>passenger_count</th>\n",
              "      <th>trip_distance</th>\n",
              "      <th>RatecodeID</th>\n",
              "      <th>PULocationID</th>\n",
              "      <th>DOLocationID</th>\n",
              "      <th>payment_type</th>\n",
              "      <th>fare_amount</th>\n",
              "      <th>extra</th>\n",
              "      <th>mta_tax</th>\n",
              "      <th>tolls_amount</th>\n",
              "      <th>improvement_surcharge</th>\n",
              "      <th>total_amount</th>\n",
              "      <th>congestion_surcharge</th>\n",
              "      <th>airport_fee</th>\n",
              "      <th>Travel_time</th>\n",
              "      <th>Outlier</th>\n",
              "    </tr>\n",
              "  </thead>\n",
              "  <tbody>\n",
              "    <tr>\n",
              "      <th>58</th>\n",
              "      <td>2</td>\n",
              "      <td>2018-01-01 01:02:39</td>\n",
              "      <td>2</td>\n",
              "      <td>0.09</td>\n",
              "      <td>1</td>\n",
              "      <td>87</td>\n",
              "      <td>87</td>\n",
              "      <td>4</td>\n",
              "      <td>-3.0</td>\n",
              "      <td>0.0</td>\n",
              "      <td>NaN</td>\n",
              "      <td>0.00</td>\n",
              "      <td>NaN</td>\n",
              "      <td>-4.30</td>\n",
              "      <td>NaN</td>\n",
              "      <td>NaN</td>\n",
              "      <td>1.383333</td>\n",
              "      <td>1</td>\n",
              "    </tr>\n",
              "    <tr>\n",
              "      <th>63</th>\n",
              "      <td>1</td>\n",
              "      <td>2018-01-01 00:20:53</td>\n",
              "      <td>1</td>\n",
              "      <td>0.00</td>\n",
              "      <td>1</td>\n",
              "      <td>161</td>\n",
              "      <td>264</td>\n",
              "      <td>2</td>\n",
              "      <td>14.5</td>\n",
              "      <td>0.5</td>\n",
              "      <td>0.5</td>\n",
              "      <td>0.00</td>\n",
              "      <td>0.3</td>\n",
              "      <td>15.80</td>\n",
              "      <td>NaN</td>\n",
              "      <td>NaN</td>\n",
              "      <td>0.000000</td>\n",
              "      <td>1</td>\n",
              "    </tr>\n",
              "    <tr>\n",
              "      <th>114</th>\n",
              "      <td>1</td>\n",
              "      <td>2018-01-01 00:27:43</td>\n",
              "      <td>2</td>\n",
              "      <td>5.70</td>\n",
              "      <td>1</td>\n",
              "      <td>264</td>\n",
              "      <td>264</td>\n",
              "      <td>4</td>\n",
              "      <td>17.5</td>\n",
              "      <td>0.5</td>\n",
              "      <td>NaN</td>\n",
              "      <td>0.00</td>\n",
              "      <td>NaN</td>\n",
              "      <td>18.80</td>\n",
              "      <td>NaN</td>\n",
              "      <td>NaN</td>\n",
              "      <td>11.500000</td>\n",
              "      <td>1</td>\n",
              "    </tr>\n",
              "    <tr>\n",
              "      <th>127</th>\n",
              "      <td>1</td>\n",
              "      <td>2018-01-01 00:40:10</td>\n",
              "      <td>1</td>\n",
              "      <td>3.20</td>\n",
              "      <td>1</td>\n",
              "      <td>186</td>\n",
              "      <td>140</td>\n",
              "      <td>3</td>\n",
              "      <td>16.0</td>\n",
              "      <td>0.5</td>\n",
              "      <td>NaN</td>\n",
              "      <td>0.00</td>\n",
              "      <td>NaN</td>\n",
              "      <td>17.30</td>\n",
              "      <td>NaN</td>\n",
              "      <td>NaN</td>\n",
              "      <td>23.233333</td>\n",
              "      <td>1</td>\n",
              "    </tr>\n",
              "    <tr>\n",
              "      <th>162</th>\n",
              "      <td>1</td>\n",
              "      <td>2018-01-01 00:18:09</td>\n",
              "      <td>4</td>\n",
              "      <td>1.30</td>\n",
              "      <td>1</td>\n",
              "      <td>112</td>\n",
              "      <td>255</td>\n",
              "      <td>3</td>\n",
              "      <td>8.5</td>\n",
              "      <td>0.5</td>\n",
              "      <td>NaN</td>\n",
              "      <td>0.00</td>\n",
              "      <td>NaN</td>\n",
              "      <td>9.80</td>\n",
              "      <td>NaN</td>\n",
              "      <td>NaN</td>\n",
              "      <td>10.233333</td>\n",
              "      <td>1</td>\n",
              "    </tr>\n",
              "    <tr>\n",
              "      <th>...</th>\n",
              "      <td>...</td>\n",
              "      <td>...</td>\n",
              "      <td>...</td>\n",
              "      <td>...</td>\n",
              "      <td>...</td>\n",
              "      <td>...</td>\n",
              "      <td>...</td>\n",
              "      <td>...</td>\n",
              "      <td>...</td>\n",
              "      <td>...</td>\n",
              "      <td>...</td>\n",
              "      <td>...</td>\n",
              "      <td>...</td>\n",
              "      <td>...</td>\n",
              "      <td>...</td>\n",
              "      <td>...</td>\n",
              "      <td>...</td>\n",
              "      <td>...</td>\n",
              "    </tr>\n",
              "    <tr>\n",
              "      <th>8760376</th>\n",
              "      <td>2</td>\n",
              "      <td>2018-01-31 23:23:52</td>\n",
              "      <td>1</td>\n",
              "      <td>0.00</td>\n",
              "      <td>2</td>\n",
              "      <td>107</td>\n",
              "      <td>107</td>\n",
              "      <td>1</td>\n",
              "      <td>52.0</td>\n",
              "      <td>0.0</td>\n",
              "      <td>0.5</td>\n",
              "      <td>5.76</td>\n",
              "      <td>0.3</td>\n",
              "      <td>68.56</td>\n",
              "      <td>NaN</td>\n",
              "      <td>NaN</td>\n",
              "      <td>0.216667</td>\n",
              "      <td>1</td>\n",
              "    </tr>\n",
              "    <tr>\n",
              "      <th>8760436</th>\n",
              "      <td>2</td>\n",
              "      <td>2018-01-31 23:34:29</td>\n",
              "      <td>1</td>\n",
              "      <td>0.00</td>\n",
              "      <td>1</td>\n",
              "      <td>116</td>\n",
              "      <td>116</td>\n",
              "      <td>2</td>\n",
              "      <td>2.5</td>\n",
              "      <td>0.5</td>\n",
              "      <td>0.5</td>\n",
              "      <td>0.00</td>\n",
              "      <td>0.3</td>\n",
              "      <td>3.80</td>\n",
              "      <td>NaN</td>\n",
              "      <td>NaN</td>\n",
              "      <td>0.350000</td>\n",
              "      <td>1</td>\n",
              "    </tr>\n",
              "    <tr>\n",
              "      <th>8760551</th>\n",
              "      <td>2</td>\n",
              "      <td>2018-01-31 23:48:53</td>\n",
              "      <td>1</td>\n",
              "      <td>0.00</td>\n",
              "      <td>1</td>\n",
              "      <td>18</td>\n",
              "      <td>18</td>\n",
              "      <td>1</td>\n",
              "      <td>2.5</td>\n",
              "      <td>0.5</td>\n",
              "      <td>0.5</td>\n",
              "      <td>0.00</td>\n",
              "      <td>0.3</td>\n",
              "      <td>40.00</td>\n",
              "      <td>NaN</td>\n",
              "      <td>NaN</td>\n",
              "      <td>0.466667</td>\n",
              "      <td>1</td>\n",
              "    </tr>\n",
              "    <tr>\n",
              "      <th>8760685</th>\n",
              "      <td>2</td>\n",
              "      <td>2018-01-31 23:24:40</td>\n",
              "      <td>1</td>\n",
              "      <td>0.00</td>\n",
              "      <td>1</td>\n",
              "      <td>7</td>\n",
              "      <td>193</td>\n",
              "      <td>2</td>\n",
              "      <td>0.0</td>\n",
              "      <td>0.0</td>\n",
              "      <td>0.5</td>\n",
              "      <td>0.00</td>\n",
              "      <td>0.3</td>\n",
              "      <td>0.00</td>\n",
              "      <td>NaN</td>\n",
              "      <td>NaN</td>\n",
              "      <td>0.800000</td>\n",
              "      <td>1</td>\n",
              "    </tr>\n",
              "    <tr>\n",
              "      <th>8760686</th>\n",
              "      <td>2</td>\n",
              "      <td>2018-01-31 23:28:16</td>\n",
              "      <td>1</td>\n",
              "      <td>0.00</td>\n",
              "      <td>1</td>\n",
              "      <td>7</td>\n",
              "      <td>193</td>\n",
              "      <td>2</td>\n",
              "      <td>0.0</td>\n",
              "      <td>0.0</td>\n",
              "      <td>0.5</td>\n",
              "      <td>0.00</td>\n",
              "      <td>0.3</td>\n",
              "      <td>0.00</td>\n",
              "      <td>NaN</td>\n",
              "      <td>NaN</td>\n",
              "      <td>0.366667</td>\n",
              "      <td>1</td>\n",
              "    </tr>\n",
              "  </tbody>\n",
              "</table>\n",
              "<p>103727 rows × 18 columns</p>\n",
              "</div>"
            ],
            "text/plain": [
              "         VendorID tpep_pickup_datetime  passenger_count  trip_distance  \\\n",
              "58              2  2018-01-01 01:02:39                2           0.09   \n",
              "63              1  2018-01-01 00:20:53                1           0.00   \n",
              "114             1  2018-01-01 00:27:43                2           5.70   \n",
              "127             1  2018-01-01 00:40:10                1           3.20   \n",
              "162             1  2018-01-01 00:18:09                4           1.30   \n",
              "...           ...                  ...              ...            ...   \n",
              "8760376         2  2018-01-31 23:23:52                1           0.00   \n",
              "8760436         2  2018-01-31 23:34:29                1           0.00   \n",
              "8760551         2  2018-01-31 23:48:53                1           0.00   \n",
              "8760685         2  2018-01-31 23:24:40                1           0.00   \n",
              "8760686         2  2018-01-31 23:28:16                1           0.00   \n",
              "\n",
              "         RatecodeID  PULocationID  DOLocationID  payment_type  fare_amount  \\\n",
              "58                1            87            87             4         -3.0   \n",
              "63                1           161           264             2         14.5   \n",
              "114               1           264           264             4         17.5   \n",
              "127               1           186           140             3         16.0   \n",
              "162               1           112           255             3          8.5   \n",
              "...             ...           ...           ...           ...          ...   \n",
              "8760376           2           107           107             1         52.0   \n",
              "8760436           1           116           116             2          2.5   \n",
              "8760551           1            18            18             1          2.5   \n",
              "8760685           1             7           193             2          0.0   \n",
              "8760686           1             7           193             2          0.0   \n",
              "\n",
              "         extra  mta_tax  tolls_amount  improvement_surcharge  total_amount  \\\n",
              "58         0.0      NaN          0.00                    NaN         -4.30   \n",
              "63         0.5      0.5          0.00                    0.3         15.80   \n",
              "114        0.5      NaN          0.00                    NaN         18.80   \n",
              "127        0.5      NaN          0.00                    NaN         17.30   \n",
              "162        0.5      NaN          0.00                    NaN          9.80   \n",
              "...        ...      ...           ...                    ...           ...   \n",
              "8760376    0.0      0.5          5.76                    0.3         68.56   \n",
              "8760436    0.5      0.5          0.00                    0.3          3.80   \n",
              "8760551    0.5      0.5          0.00                    0.3         40.00   \n",
              "8760685    0.0      0.5          0.00                    0.3          0.00   \n",
              "8760686    0.0      0.5          0.00                    0.3          0.00   \n",
              "\n",
              "         congestion_surcharge  airport_fee  Travel_time  Outlier  \n",
              "58                        NaN          NaN     1.383333        1  \n",
              "63                        NaN          NaN     0.000000        1  \n",
              "114                       NaN          NaN    11.500000        1  \n",
              "127                       NaN          NaN    23.233333        1  \n",
              "162                       NaN          NaN    10.233333        1  \n",
              "...                       ...          ...          ...      ...  \n",
              "8760376                   NaN          NaN     0.216667        1  \n",
              "8760436                   NaN          NaN     0.350000        1  \n",
              "8760551                   NaN          NaN     0.466667        1  \n",
              "8760685                   NaN          NaN     0.800000        1  \n",
              "8760686                   NaN          NaN     0.366667        1  \n",
              "\n",
              "[103727 rows x 18 columns]"
            ]
          },
          "execution_count": 229,
          "metadata": {},
          "output_type": "execute_result"
        }
      ],
      "source": [
        "df_outliers"
      ]
    }
  ],
  "metadata": {
    "colab": {
      "collapsed_sections": [],
      "name": "DataCleaning.ipynb",
      "provenance": []
    },
    "kernelspec": {
      "display_name": "Python 3.10.2 ('virtual-env': venv)",
      "language": "python",
      "name": "python3"
    },
    "language_info": {
      "codemirror_mode": {
        "name": "ipython",
        "version": 3
      },
      "file_extension": ".py",
      "mimetype": "text/x-python",
      "name": "python",
      "nbconvert_exporter": "python",
      "pygments_lexer": "ipython3",
      "version": "3.10.2"
    },
    "vscode": {
      "interpreter": {
        "hash": "768a78e409bc63ececf8ddb5c05a5884d6b6cbcb3a2d6ba7d0d2e08a1d01c391"
      }
    }
  },
  "nbformat": 4,
  "nbformat_minor": 0
}
