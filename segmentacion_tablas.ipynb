{
 "cells": [
  {
   "cell_type": "code",
   "execution_count": 1,
   "metadata": {},
   "outputs": [],
   "source": [
    "import pandas as pd\n",
    "import numpy as np\n",
    "import datetime as dt"
   ]
  },
  {
   "cell_type": "code",
   "execution_count": 2,
   "metadata": {},
   "outputs": [],
   "source": [
    "df_all_zones = pd.read_csv('data/taxi+_zone_lookup.csv')"
   ]
  },
  {
   "cell_type": "code",
   "execution_count": 3,
   "metadata": {},
   "outputs": [],
   "source": [
    "df_all = pd.read_csv('processed_data/data_taxis_nyc_2018.csv')"
   ]
  },
  {
   "cell_type": "code",
   "execution_count": 4,
   "metadata": {},
   "outputs": [],
   "source": [
    "df_all = df_all.drop(columns=['Unnamed: 0'])"
   ]
  },
  {
   "cell_type": "code",
   "execution_count": 5,
   "metadata": {},
   "outputs": [],
   "source": [
    "df = df_all.copy()"
   ]
  },
  {
   "cell_type": "markdown",
   "metadata": {},
   "source": [
    "# Creación de tablas"
   ]
  },
  {
   "cell_type": "markdown",
   "metadata": {},
   "source": [
    "**Vendor**"
   ]
  },
  {
   "cell_type": "code",
   "execution_count": 6,
   "metadata": {},
   "outputs": [],
   "source": [
    "df_vendor = pd.DataFrame({\n",
    "    'VendorID': [1,2],\n",
    "    'Vendor': ['Creative Mobile Technologies, LLC', 'VeriFone Inc.']\n",
    "})"
   ]
  },
  {
   "cell_type": "markdown",
   "metadata": {},
   "source": [
    "**Borough**"
   ]
  },
  {
   "cell_type": "code",
   "execution_count": 7,
   "metadata": {},
   "outputs": [],
   "source": [
    "boroughs = df_all_zones['Borough'].unique()"
   ]
  },
  {
   "cell_type": "code",
   "execution_count": 8,
   "metadata": {},
   "outputs": [],
   "source": [
    "df_borough = pd.DataFrame({\n",
    "    'Borough': boroughs\n",
    "})\n",
    "df_borough.insert(loc=0, column='BoroughID', value=range(1, len(df_borough)+1))"
   ]
  },
  {
   "cell_type": "markdown",
   "metadata": {},
   "source": [
    "**Zone**"
   ]
  },
  {
   "cell_type": "code",
   "execution_count": 146,
   "metadata": {},
   "outputs": [],
   "source": [
    "df_zone = df_all_zones[['LocationID', 'Zone', 'Borough', 'service_zone']]\n",
    "df_zone.loc[df_zone.LocationID==265, 'Zone'] = 'Unknown'\n",
    "df_zone.rename(columns={\n",
    "    'LocationID': 'ZoneID'\n",
    "}, inplace=True)"
   ]
  },
  {
   "cell_type": "code",
   "execution_count": 147,
   "metadata": {},
   "outputs": [],
   "source": [
    "def replaceForIndex( p_x ):\n",
    "    for i, elem in enumerate(df_borough['Borough']):\n",
    "        if elem == p_x:\n",
    "            return df_borough.iloc[i]['BoroughID']"
   ]
  },
  {
   "cell_type": "code",
   "execution_count": 148,
   "metadata": {},
   "outputs": [],
   "source": [
    "df_zone['BoroughID'] = df_zone['Borough'].apply(replaceForIndex)"
   ]
  },
  {
   "cell_type": "code",
   "execution_count": 149,
   "metadata": {},
   "outputs": [],
   "source": [
    "def replaceForIndex( p_x ):\n",
    "    for i, elem in enumerate(df_service_zone['Service_Zone']):\n",
    "        if elem == p_x:\n",
    "            return df_service_zone.iloc[i]['Service_ZoneID']"
   ]
  },
  {
   "cell_type": "code",
   "execution_count": 150,
   "metadata": {},
   "outputs": [],
   "source": [
    "df_zone['Service_ZoneID'] = df_zone['service_zone'].apply(replaceForIndex)"
   ]
  },
  {
   "cell_type": "code",
   "execution_count": 121,
   "metadata": {},
   "outputs": [],
   "source": [
    "df_zone = df_zone.drop(columns=['Borough', 'service_zone'])"
   ]
  },
  {
   "cell_type": "markdown",
   "metadata": {},
   "source": [
    "**Service_Zone**"
   ]
  },
  {
   "cell_type": "code",
   "execution_count": 10,
   "metadata": {},
   "outputs": [],
   "source": [
    "service_zones = df_all_zones['service_zone'].unique()"
   ]
  },
  {
   "cell_type": "code",
   "execution_count": 11,
   "metadata": {},
   "outputs": [],
   "source": [
    "df_service_zone = pd.DataFrame({\n",
    "    'Service_Zone': service_zones\n",
    "})\n",
    "df_service_zone.insert(loc=0, column='Service_ZoneID', value=range(1, len(df_service_zone)+1))\n",
    "df_service_zone.loc[df_service_zone['Service_Zone'].isna(), 'Service_Zone'] = 'Unknown'"
   ]
  },
  {
   "cell_type": "markdown",
   "metadata": {},
   "source": [
    "**Rate_Code**"
   ]
  },
  {
   "cell_type": "code",
   "execution_count": 12,
   "metadata": {},
   "outputs": [],
   "source": [
    "df_rate_code = pd.DataFrame({\n",
    "    'RateCodeID': [1,2,3,4,5,6],\n",
    "    'RateCode':['Standard rate', 'JFK', 'Newark', 'Nassau or Westchester', 'Negotiated fare', 'Group ride']\n",
    "})"
   ]
  },
  {
   "cell_type": "markdown",
   "metadata": {},
   "source": [
    "**Payment_Type**"
   ]
  },
  {
   "cell_type": "code",
   "execution_count": 13,
   "metadata": {},
   "outputs": [],
   "source": [
    "df_payment_type = pd.DataFrame({\n",
    "    'PaymentTypeID': [1,2,3,4,5,6],\n",
    "    'PaymentType':['Credit card', 'Cash', 'No charge', 'Dispute', 'Unknown', 'Voided trip']\n",
    "})"
   ]
  },
  {
   "cell_type": "markdown",
   "metadata": {},
   "source": [
    "**Precip_Type**"
   ]
  },
  {
   "cell_type": "code",
   "execution_count": 14,
   "metadata": {},
   "outputs": [],
   "source": [
    "df_precip_type = pd.DataFrame({\n",
    "    'Precip_Type': ['No precipitacion', 'Rain', 'Snow', 'Rain and Snow']\n",
    "})\n",
    "df_precip_type.insert(loc=0, column='Precip_TypeID', value=range(len(df_precip_type)))"
   ]
  },
  {
   "cell_type": "markdown",
   "metadata": {},
   "source": [
    "**Calendar**"
   ]
  },
  {
   "cell_type": "code",
   "execution_count": 21,
   "metadata": {},
   "outputs": [],
   "source": [
    "only_dates = df['tpep_pickup_datetime'].str.split()\n",
    "\n",
    "for i, elem in enumerate(only_dates):\n",
    "    only_dates[i] = elem[0]\n",
    "    \n",
    "unique_dates = list(only_dates.unique())"
   ]
  },
  {
   "cell_type": "code",
   "execution_count": 22,
   "metadata": {},
   "outputs": [],
   "source": [
    "df_calendar = pd.DataFrame({\n",
    "    'Date': unique_dates\n",
    "})\n",
    "df_calendar.insert(loc=0, column='DateID', value=range(1, len(df_calendar)+1))\n",
    "\n",
    "df_calendar['Date'] = pd.to_datetime(df_calendar['Date'])"
   ]
  },
  {
   "cell_type": "code",
   "execution_count": null,
   "metadata": {},
   "outputs": [],
   "source": [
    "df_calendar['Year']     = df_calendar['Date'].dt.year\n",
    "df_calendar['Month']    = df_calendar['Date'].dt.month\n",
    "df_calendar['Day']      = df_calendar['Date'].dt.day\n",
    "df_calendar['Week']     = df_calendar['Date'].dt.week\n",
    "df_calendar['Day_of_Week'] = df_calendar['Date'].dt.day_of_week"
   ]
  },
  {
   "cell_type": "markdown",
   "metadata": {},
   "source": [
    "**Trip**"
   ]
  },
  {
   "cell_type": "code",
   "execution_count": 39,
   "metadata": {},
   "outputs": [],
   "source": [
    "datetime = df['tpep_pickup_datetime'].str.split()\n",
    "dates = []\n",
    "times = []\n",
    "for date, time in datetime:\n",
    "    dates.append(date)\n",
    "    times.append(time)"
   ]
  },
  {
   "cell_type": "code",
   "execution_count": 45,
   "metadata": {},
   "outputs": [],
   "source": [
    "df_trip = pd.DataFrame({\n",
    "    'VendorID': df['VendorID'],\n",
    "    'Date': dates,\n",
    "    'PU_Time': times,\n",
    "    'Duration': df['Travel_time'],\n",
    "    'Passenger_count': df['passenger_count'],\n",
    "    'Distance': df['trip_distance'],\n",
    "    'PU_IdZone': df['PULocationID'],\n",
    "    'DO_IdZone': df['DOLocationID']\n",
    "})"
   ]
  },
  {
   "cell_type": "code",
   "execution_count": 130,
   "metadata": {},
   "outputs": [],
   "source": [
    "df_trip.insert(loc=0, column='IdTrip', value=range(len(df_trip)))"
   ]
  },
  {
   "cell_type": "code",
   "execution_count": 161,
   "metadata": {},
   "outputs": [],
   "source": [
    "def addBorough( p_x ):\n",
    "    for i, elem in enumerate(df_zone['ZoneID']):\n",
    "        if elem == p_x:\n",
    "            return df_zone.iloc[i]['Borough']"
   ]
  },
  {
   "cell_type": "code",
   "execution_count": 162,
   "metadata": {},
   "outputs": [],
   "source": [
    "df_trip['Borough'] = df_trip['PU_IdZone'].apply(addBorough)"
   ]
  },
  {
   "cell_type": "code",
   "execution_count": null,
   "metadata": {},
   "outputs": [],
   "source": [
    "#Agregar 'Temperature' y 'IdPrecip_Type'\n",
    "df_weather = pd.read_csv('data/NY_Boroughs_Weathers_01-2018.csv')"
   ]
  },
  {
   "cell_type": "markdown",
   "metadata": {},
   "source": [
    "**Payment**"
   ]
  },
  {
   "cell_type": "code",
   "execution_count": 186,
   "metadata": {},
   "outputs": [],
   "source": [
    "df_payment = df[['RatecodeID', 'payment_type', 'fare_amount', 'extra', 'mta_tax', 'improvement_surcharge', 'tolls_amount', 'total_amount']]"
   ]
  },
  {
   "cell_type": "code",
   "execution_count": 193,
   "metadata": {},
   "outputs": [],
   "source": [
    "df_payment.insert(loc=0, column='IdTrip', value=df_trip['IdTrip'])"
   ]
  },
  {
   "cell_type": "code",
   "execution_count": 195,
   "metadata": {},
   "outputs": [],
   "source": [
    "df_payment.insert(loc=0, column='IdPayment', value=range(len(df_payment)))"
   ]
  },
  {
   "cell_type": "markdown",
   "metadata": {},
   "source": [
    "### Renombrar Columnas - Normalizar"
   ]
  },
  {
   "cell_type": "code",
   "execution_count": 198,
   "metadata": {},
   "outputs": [],
   "source": [
    "df_vendor.columns = ['IdVendor', 'Vendor']\n",
    "df_calendar.rename(columns={'DateID':'IdDate'}, inplace=True)\n",
    "df_borough.columns = ['IdBorough', 'Borough']\n",
    "df_service_zone.rename(columns={'Service_ZoneID':'IdService_Zone'}, inplace=True)\n",
    "df_trip.rename(columns={'VendorID': 'IdVendor'}, inplace=True)\n",
    "df_precip_type.rename(columns={'Precip_TypeID': 'IdPrecip_Type'}, inplace=True)\n",
    "df_rate_code.rename(columns={'RateCodeID': 'IdRate_Code', 'RateCode': 'Rate_Code'}, inplace=True)\n",
    "df_payment_type.rename(columns={'PaymentTypeID': 'IdPayment_Type','PaymentType': 'Payment_Type'}, inplace=True)\n",
    "df_zone.rename(columns={'ZoneID': 'IdZone','BoroughID': 'IdBorough','Service_ZoneID': 'IdService_Zone','service_zone': 'Service_Zone'},inplace=True)\n",
    "df_payment.rename(columns={'RatecodeID': 'IdRate_Code','payment_type': 'IdPayment_Type','fare_amount': 'Fare_Amount','extra': 'Extra','mta_tax': 'MTA_Tax','improvement_surcharge': 'Improvement_Surcharge','tolls_amount': 'Tolls_Amount','total_amount': 'Total_Amount'}, inplace=True)"
   ]
  },
  {
   "cell_type": "markdown",
   "metadata": {},
   "source": [
    "### Exportar a archivos CSV"
   ]
  },
  {
   "cell_type": "code",
   "execution_count": 227,
   "metadata": {},
   "outputs": [],
   "source": [
    "df_vendor.to_csv('tables/vendor.csv')\n",
    "df_calendar.to_csv('tables/calendar.csv')\n",
    "df_borough.to_csv('tables/borough.csv')\n",
    "df_service_zone.to_csv('tables/service_zone.csv')\n",
    "df_trip.to_csv('tables/trip.csv')\n",
    "df_precip_type.to_csv('tables/precip_type.csv')\n",
    "df_rate_code.to_csv('tables/rate_code.csv')\n",
    "df_payment_type.to_csv('tables/payment_type.csv')\n",
    "df_zone.to_csv('tables/zone.csv')\n",
    "df_payment.to_csv('tables/payment.csv')"
   ]
  }
 ],
 "metadata": {
  "kernelspec": {
   "display_name": "Python 3.10.2 ('virtual-env': venv)",
   "language": "python",
   "name": "python3"
  },
  "language_info": {
   "codemirror_mode": {
    "name": "ipython",
    "version": 3
   },
   "file_extension": ".py",
   "mimetype": "text/x-python",
   "name": "python",
   "nbconvert_exporter": "python",
   "pygments_lexer": "ipython3",
   "version": "3.10.2"
  },
  "orig_nbformat": 4,
  "vscode": {
   "interpreter": {
    "hash": "768a78e409bc63ececf8ddb5c05a5884d6b6cbcb3a2d6ba7d0d2e08a1d01c391"
   }
  }
 },
 "nbformat": 4,
 "nbformat_minor": 2
}
